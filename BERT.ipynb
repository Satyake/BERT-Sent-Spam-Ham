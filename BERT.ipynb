{
 "cells": [
  {
   "cell_type": "code",
   "execution_count": 1,
   "id": "d21ec5c5",
   "metadata": {},
   "outputs": [
    {
     "name": "stdout",
     "output_type": "stream",
     "text": [
      "Collecting tensorflow_text\n",
      "  Downloading tensorflow_text-2.9.0-cp37-cp37m-win_amd64.whl (4.4 MB)\n",
      "Collecting tensorflow-hub>=0.8.0\n",
      "  Downloading tensorflow_hub-0.12.0-py2.py3-none-any.whl (108 kB)\n",
      "Collecting tensorflow<2.10,>=2.9.0\n",
      "  Downloading tensorflow-2.9.1-cp37-cp37m-win_amd64.whl (444.0 MB)\n",
      "Requirement already satisfied: setuptools in c:\\users\\satya\\anaconda3\\envs\\tf-gpu-cuda8\\lib\\site-packages (from tensorflow<2.10,>=2.9.0->tensorflow_text) (58.0.4)\n",
      "Requirement already satisfied: typing-extensions>=3.6.6 in c:\\users\\satya\\anaconda3\\envs\\tf-gpu-cuda8\\lib\\site-packages (from tensorflow<2.10,>=2.9.0->tensorflow_text) (4.3.0)\n",
      "Requirement already satisfied: h5py>=2.9.0 in c:\\users\\satya\\anaconda3\\envs\\tf-gpu-cuda8\\lib\\site-packages (from tensorflow<2.10,>=2.9.0->tensorflow_text) (2.10.0)\n",
      "Collecting absl-py>=1.0.0\n",
      "  Downloading absl_py-1.2.0-py3-none-any.whl (123 kB)\n",
      "Requirement already satisfied: protobuf<3.20,>=3.9.2 in c:\\users\\satya\\anaconda3\\envs\\tf-gpu-cuda8\\lib\\site-packages (from tensorflow<2.10,>=2.9.0->tensorflow_text) (3.17.2)\n",
      "Collecting tensorboard<2.10,>=2.9\n",
      "  Downloading tensorboard-2.9.1-py3-none-any.whl (5.8 MB)\n",
      "Requirement already satisfied: keras-preprocessing>=1.1.1 in c:\\users\\satya\\anaconda3\\envs\\tf-gpu-cuda8\\lib\\site-packages (from tensorflow<2.10,>=2.9.0->tensorflow_text) (1.1.2)\n",
      "Requirement already satisfied: packaging in c:\\users\\satya\\anaconda3\\envs\\tf-gpu-cuda8\\lib\\site-packages (from tensorflow<2.10,>=2.9.0->tensorflow_text) (21.3)\n",
      "Requirement already satisfied: numpy>=1.20 in c:\\users\\satya\\anaconda3\\envs\\tf-gpu-cuda8\\lib\\site-packages (from tensorflow<2.10,>=2.9.0->tensorflow_text) (1.21.2)\n",
      "Requirement already satisfied: wrapt>=1.11.0 in c:\\users\\satya\\anaconda3\\envs\\tf-gpu-cuda8\\lib\\site-packages (from tensorflow<2.10,>=2.9.0->tensorflow_text) (1.13.3)\n",
      "Requirement already satisfied: termcolor>=1.1.0 in c:\\users\\satya\\anaconda3\\envs\\tf-gpu-cuda8\\lib\\site-packages (from tensorflow<2.10,>=2.9.0->tensorflow_text) (1.1.0)\n",
      "Collecting tensorflow-io-gcs-filesystem>=0.23.1\n",
      "  Downloading tensorflow_io_gcs_filesystem-0.26.0-cp37-cp37m-win_amd64.whl (1.5 MB)\n",
      "Collecting keras<2.10.0,>=2.9.0rc0\n",
      "  Downloading keras-2.9.0-py2.py3-none-any.whl (1.6 MB)\n",
      "Requirement already satisfied: astunparse>=1.6.0 in c:\\users\\satya\\anaconda3\\envs\\tf-gpu-cuda8\\lib\\site-packages (from tensorflow<2.10,>=2.9.0->tensorflow_text) (1.6.3)\n",
      "Requirement already satisfied: gast<=0.4.0,>=0.2.1 in c:\\users\\satya\\anaconda3\\envs\\tf-gpu-cuda8\\lib\\site-packages (from tensorflow<2.10,>=2.9.0->tensorflow_text) (0.3.3)\n",
      "Collecting tensorflow-estimator<2.10.0,>=2.9.0rc0\n",
      "  Downloading tensorflow_estimator-2.9.0-py2.py3-none-any.whl (438 kB)\n",
      "Requirement already satisfied: google-pasta>=0.1.1 in c:\\users\\satya\\anaconda3\\envs\\tf-gpu-cuda8\\lib\\site-packages (from tensorflow<2.10,>=2.9.0->tensorflow_text) (0.2.0)\n",
      "Collecting flatbuffers<2,>=1.12\n",
      "  Using cached flatbuffers-1.12-py2.py3-none-any.whl (15 kB)\n",
      "Collecting libclang>=13.0.0\n",
      "  Downloading libclang-14.0.6-py2.py3-none-win_amd64.whl (14.2 MB)\n",
      "Requirement already satisfied: opt-einsum>=2.3.2 in c:\\users\\satya\\anaconda3\\envs\\tf-gpu-cuda8\\lib\\site-packages (from tensorflow<2.10,>=2.9.0->tensorflow_text) (3.3.0)\n",
      "Requirement already satisfied: six>=1.12.0 in c:\\users\\satya\\anaconda3\\envs\\tf-gpu-cuda8\\lib\\site-packages (from tensorflow<2.10,>=2.9.0->tensorflow_text) (1.16.0)\n",
      "Requirement already satisfied: grpcio<2.0,>=1.24.3 in c:\\users\\satya\\anaconda3\\envs\\tf-gpu-cuda8\\lib\\site-packages (from tensorflow<2.10,>=2.9.0->tensorflow_text) (1.42.0)\n",
      "Requirement already satisfied: wheel<1.0,>=0.23.0 in c:\\users\\satya\\anaconda3\\envs\\tf-gpu-cuda8\\lib\\site-packages (from astunparse>=1.6.0->tensorflow<2.10,>=2.9.0->tensorflow_text) (0.37.0)\n",
      "Collecting tensorboard-data-server<0.7.0,>=0.6.0\n",
      "  Using cached tensorboard_data_server-0.6.1-py3-none-any.whl (2.4 kB)\n",
      "Requirement already satisfied: werkzeug>=1.0.1 in c:\\users\\satya\\anaconda3\\envs\\tf-gpu-cuda8\\lib\\site-packages (from tensorboard<2.10,>=2.9->tensorflow<2.10,>=2.9.0->tensorflow_text) (2.0.2)\n",
      "Requirement already satisfied: google-auth-oauthlib<0.5,>=0.4.1 in c:\\users\\satya\\anaconda3\\envs\\tf-gpu-cuda8\\lib\\site-packages (from tensorboard<2.10,>=2.9->tensorflow<2.10,>=2.9.0->tensorflow_text) (0.4.4)\n",
      "Requirement already satisfied: tensorboard-plugin-wit>=1.6.0 in c:\\users\\satya\\anaconda3\\envs\\tf-gpu-cuda8\\lib\\site-packages (from tensorboard<2.10,>=2.9->tensorflow<2.10,>=2.9.0->tensorflow_text) (1.6.0)\n",
      "Requirement already satisfied: requests<3,>=2.21.0 in c:\\users\\satya\\anaconda3\\envs\\tf-gpu-cuda8\\lib\\site-packages (from tensorboard<2.10,>=2.9->tensorflow<2.10,>=2.9.0->tensorflow_text) (2.26.0)\n",
      "Requirement already satisfied: google-auth<3,>=1.6.3 in c:\\users\\satya\\anaconda3\\envs\\tf-gpu-cuda8\\lib\\site-packages (from tensorboard<2.10,>=2.9->tensorflow<2.10,>=2.9.0->tensorflow_text) (1.33.0)\n",
      "Requirement already satisfied: markdown>=2.6.8 in c:\\users\\satya\\anaconda3\\envs\\tf-gpu-cuda8\\lib\\site-packages (from tensorboard<2.10,>=2.9->tensorflow<2.10,>=2.9.0->tensorflow_text) (3.3.4)\n",
      "Requirement already satisfied: cachetools<5.0,>=2.0.0 in c:\\users\\satya\\anaconda3\\envs\\tf-gpu-cuda8\\lib\\site-packages (from google-auth<3,>=1.6.3->tensorboard<2.10,>=2.9->tensorflow<2.10,>=2.9.0->tensorflow_text) (4.2.2)\n",
      "Requirement already satisfied: rsa<5,>=3.1.4 in c:\\users\\satya\\anaconda3\\envs\\tf-gpu-cuda8\\lib\\site-packages (from google-auth<3,>=1.6.3->tensorboard<2.10,>=2.9->tensorflow<2.10,>=2.9.0->tensorflow_text) (4.7.2)\n",
      "Requirement already satisfied: pyasn1-modules>=0.2.1 in c:\\users\\satya\\anaconda3\\envs\\tf-gpu-cuda8\\lib\\site-packages (from google-auth<3,>=1.6.3->tensorboard<2.10,>=2.9->tensorflow<2.10,>=2.9.0->tensorflow_text) (0.2.8)\n",
      "Requirement already satisfied: requests-oauthlib>=0.7.0 in c:\\users\\satya\\anaconda3\\envs\\tf-gpu-cuda8\\lib\\site-packages (from google-auth-oauthlib<0.5,>=0.4.1->tensorboard<2.10,>=2.9->tensorflow<2.10,>=2.9.0->tensorflow_text) (1.3.0)\n",
      "Requirement already satisfied: importlib-metadata in c:\\users\\satya\\anaconda3\\envs\\tf-gpu-cuda8\\lib\\site-packages (from markdown>=2.6.8->tensorboard<2.10,>=2.9->tensorflow<2.10,>=2.9.0->tensorflow_text) (4.8.2)\n",
      "Requirement already satisfied: pyasn1<0.5.0,>=0.4.6 in c:\\users\\satya\\anaconda3\\envs\\tf-gpu-cuda8\\lib\\site-packages (from pyasn1-modules>=0.2.1->google-auth<3,>=1.6.3->tensorboard<2.10,>=2.9->tensorflow<2.10,>=2.9.0->tensorflow_text) (0.4.8)\n",
      "Requirement already satisfied: urllib3<1.27,>=1.21.1 in c:\\users\\satya\\anaconda3\\envs\\tf-gpu-cuda8\\lib\\site-packages (from requests<3,>=2.21.0->tensorboard<2.10,>=2.9->tensorflow<2.10,>=2.9.0->tensorflow_text) (1.26.7)\n",
      "Requirement already satisfied: idna<4,>=2.5 in c:\\users\\satya\\anaconda3\\envs\\tf-gpu-cuda8\\lib\\site-packages (from requests<3,>=2.21.0->tensorboard<2.10,>=2.9->tensorflow<2.10,>=2.9.0->tensorflow_text) (3.3)\n",
      "Requirement already satisfied: certifi>=2017.4.17 in c:\\users\\satya\\anaconda3\\envs\\tf-gpu-cuda8\\lib\\site-packages (from requests<3,>=2.21.0->tensorboard<2.10,>=2.9->tensorflow<2.10,>=2.9.0->tensorflow_text) (2022.6.15)\n",
      "Requirement already satisfied: charset-normalizer~=2.0.0 in c:\\users\\satya\\anaconda3\\envs\\tf-gpu-cuda8\\lib\\site-packages (from requests<3,>=2.21.0->tensorboard<2.10,>=2.9->tensorflow<2.10,>=2.9.0->tensorflow_text) (2.0.4)\n",
      "Requirement already satisfied: oauthlib>=3.0.0 in c:\\users\\satya\\anaconda3\\envs\\tf-gpu-cuda8\\lib\\site-packages (from requests-oauthlib>=0.7.0->google-auth-oauthlib<0.5,>=0.4.1->tensorboard<2.10,>=2.9->tensorflow<2.10,>=2.9.0->tensorflow_text) (3.1.1)\n",
      "Requirement already satisfied: zipp>=0.5 in c:\\users\\satya\\anaconda3\\envs\\tf-gpu-cuda8\\lib\\site-packages (from importlib-metadata->markdown>=2.6.8->tensorboard<2.10,>=2.9->tensorflow<2.10,>=2.9.0->tensorflow_text) (3.6.0)\n",
      "Requirement already satisfied: pyparsing!=3.0.5,>=2.0.2 in c:\\users\\satya\\anaconda3\\envs\\tf-gpu-cuda8\\lib\\site-packages (from packaging->tensorflow<2.10,>=2.9.0->tensorflow_text) (3.0.4)\n",
      "Installing collected packages: tensorboard-data-server, absl-py, tensorflow-io-gcs-filesystem, tensorflow-estimator, tensorboard, libclang, keras, flatbuffers, tensorflow-hub, tensorflow, tensorflow-text\n",
      "  Attempting uninstall: absl-py\n",
      "    Found existing installation: absl-py 0.15.0\n",
      "    Uninstalling absl-py-0.15.0:\n",
      "      Successfully uninstalled absl-py-0.15.0\n",
      "  Attempting uninstall: tensorflow-estimator\n",
      "    Found existing installation: tensorflow-estimator 2.6.0\n",
      "    Uninstalling tensorflow-estimator-2.6.0:\n",
      "      Successfully uninstalled tensorflow-estimator-2.6.0\n",
      "  Attempting uninstall: tensorboard\n",
      "    Found existing installation: tensorboard 2.4.0\n",
      "    Uninstalling tensorboard-2.4.0:\n",
      "      Successfully uninstalled tensorboard-2.4.0\n",
      "  Attempting uninstall: keras\n",
      "    Found existing installation: Keras 2.4.3\n",
      "    Uninstalling Keras-2.4.3:\n",
      "      Successfully uninstalled Keras-2.4.3\n",
      "  Attempting uninstall: tensorflow\n",
      "    Found existing installation: tensorflow 2.3.0\n",
      "    Uninstalling tensorflow-2.3.0:\n",
      "      Successfully uninstalled tensorflow-2.3.0\n",
      "Successfully installed absl-py-1.2.0 flatbuffers-1.12 keras-2.9.0 libclang-14.0.6 tensorboard-2.9.1 tensorboard-data-server-0.6.1 tensorflow-2.9.1 tensorflow-estimator-2.9.0 tensorflow-hub-0.12.0 tensorflow-io-gcs-filesystem-0.26.0 tensorflow-text-2.9.0\n"
     ]
    }
   ],
   "source": [
    "!pip install tensorflow_text"
   ]
  },
  {
   "cell_type": "code",
   "execution_count": 4,
   "id": "5435811e",
   "metadata": {},
   "outputs": [],
   "source": [
    "import tensorflow as tf\n",
    "import tensorflow_text as text\n",
    "import tensorflow_hub as hub"
   ]
  },
  {
   "cell_type": "code",
   "execution_count": 5,
   "id": "febae878",
   "metadata": {},
   "outputs": [],
   "source": [
    "preprocess_url='https://tfhub.dev/tensorflow/bert_en_uncased_preprocess/3'\n",
    "encoder_url='https://tfhub.dev/tensorflow/bert_en_uncased_L-12_H-768_A-12/4'"
   ]
  },
  {
   "cell_type": "code",
   "execution_count": 6,
   "id": "7efa3da9",
   "metadata": {},
   "outputs": [],
   "source": [
    "bert_preprocess_model=hub.KerasLayer(preprocess_url)"
   ]
  },
  {
   "cell_type": "code",
   "execution_count": 7,
   "id": "003e7d92",
   "metadata": {},
   "outputs": [
    {
     "data": {
      "text/plain": [
       "dict_keys(['input_mask', 'input_type_ids', 'input_word_ids'])"
      ]
     },
     "execution_count": 7,
     "metadata": {},
     "output_type": "execute_result"
    }
   ],
   "source": [
    "test_text=['Nice movie indeed','i love programming']\n",
    "text_preprocessed=bert_preprocess_model(test_text)\n",
    "text_preprocessed.keys()"
   ]
  },
  {
   "cell_type": "code",
   "execution_count": 15,
   "id": "6899e269",
   "metadata": {},
   "outputs": [],
   "source": [
    "#text_preprocessed['input_word_ids']\n",
    "#CLS NICE MOVIE INDEED #SEP"
   ]
  },
  {
   "cell_type": "code",
   "execution_count": 11,
   "id": "55d994bc",
   "metadata": {},
   "outputs": [],
   "source": [
    "bert_model=hub.KerasLayer(encoder_url)"
   ]
  },
  {
   "cell_type": "code",
   "execution_count": 12,
   "id": "72cc4bb9",
   "metadata": {},
   "outputs": [
    {
     "data": {
      "text/plain": [
       "dict_keys(['default', 'encoder_outputs', 'pooled_output', 'sequence_output'])"
      ]
     },
     "execution_count": 12,
     "metadata": {},
     "output_type": "execute_result"
    }
   ],
   "source": [
    "bert_results=bert_model(text_preprocessed)\n",
    "bert_results.keys()"
   ]
  },
  {
   "cell_type": "code",
   "execution_count": 13,
   "id": "10b3b16e",
   "metadata": {},
   "outputs": [
    {
     "data": {
      "text/plain": [
       "<tf.Tensor: shape=(2, 768), dtype=float32, numpy=\n",
       "array([[-0.7917741 , -0.21411933,  0.49769458, ...,  0.24465156,\n",
       "        -0.47334483,  0.8175871 ],\n",
       "       [-0.8454432 , -0.30084246, -0.10016904, ...,  0.14011791,\n",
       "        -0.6209184 ,  0.86148506]], dtype=float32)>"
      ]
     },
     "execution_count": 13,
     "metadata": {},
     "output_type": "execute_result"
    }
   ],
   "source": [
    "bert_results['pooled_output'] #pooled output , embedding of whole sentence"
   ]
  },
  {
   "cell_type": "code",
   "execution_count": 16,
   "id": "57619e6b",
   "metadata": {},
   "outputs": [],
   "source": [
    "#bert_results['sequence_output'] #individual word embeddings"
   ]
  },
  {
   "cell_type": "code",
   "execution_count": 19,
   "id": "bb9471ee",
   "metadata": {},
   "outputs": [
    {
     "data": {
      "text/plain": [
       "12"
      ]
     },
     "execution_count": 19,
     "metadata": {},
     "output_type": "execute_result"
    }
   ],
   "source": [
    "len(bert_results['encoder_outputs'])"
   ]
  },
  {
   "cell_type": "code",
   "execution_count": null,
   "id": "ca7da826",
   "metadata": {},
   "outputs": [],
   "source": []
  }
 ],
 "metadata": {
  "kernelspec": {
   "display_name": "Python 3",
   "language": "python",
   "name": "python3"
  },
  "language_info": {
   "codemirror_mode": {
    "name": "ipython",
    "version": 3
   },
   "file_extension": ".py",
   "mimetype": "text/x-python",
   "name": "python",
   "nbconvert_exporter": "python",
   "pygments_lexer": "ipython3",
   "version": "3.7.0"
  }
 },
 "nbformat": 4,
 "nbformat_minor": 5
}
