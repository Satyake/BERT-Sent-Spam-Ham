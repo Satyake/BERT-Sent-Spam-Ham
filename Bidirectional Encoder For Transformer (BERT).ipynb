{
 "cells": [
  {
   "cell_type": "code",
   "execution_count": 6,
   "id": "267c7f1e",
   "metadata": {},
   "outputs": [],
   "source": [
    "path='C:/Users/satya/Downloads/smsspamcollection/SMSSpamCollection'"
   ]
  },
  {
   "cell_type": "code",
   "execution_count": 29,
   "id": "394ebfc9",
   "metadata": {},
   "outputs": [],
   "source": [
    "import pandas as pd\n",
    "import tensorflow_hub as hub\n",
    "import tensorflow_text as text\n",
    "import tensorflow as tf\n"
   ]
  },
  {
   "cell_type": "code",
   "execution_count": null,
   "id": "ef5e847d",
   "metadata": {},
   "outputs": [],
   "source": [
    "df=pd.read_csv(path,sep='\\t',names=['label','message'])"
   ]
  },
  {
   "cell_type": "code",
   "execution_count": 8,
   "id": "acbe292c",
   "metadata": {},
   "outputs": [
    {
     "data": {
      "text/html": [
       "<div>\n",
       "<style scoped>\n",
       "    .dataframe tbody tr th:only-of-type {\n",
       "        vertical-align: middle;\n",
       "    }\n",
       "\n",
       "    .dataframe tbody tr th {\n",
       "        vertical-align: top;\n",
       "    }\n",
       "\n",
       "    .dataframe thead th {\n",
       "        text-align: right;\n",
       "    }\n",
       "</style>\n",
       "<table border=\"1\" class=\"dataframe\">\n",
       "  <thead>\n",
       "    <tr style=\"text-align: right;\">\n",
       "      <th></th>\n",
       "      <th>label</th>\n",
       "      <th>message</th>\n",
       "    </tr>\n",
       "  </thead>\n",
       "  <tbody>\n",
       "    <tr>\n",
       "      <th>0</th>\n",
       "      <td>ham</td>\n",
       "      <td>Go until jurong point, crazy.. Available only ...</td>\n",
       "    </tr>\n",
       "    <tr>\n",
       "      <th>1</th>\n",
       "      <td>ham</td>\n",
       "      <td>Ok lar... Joking wif u oni...</td>\n",
       "    </tr>\n",
       "  </tbody>\n",
       "</table>\n",
       "</div>"
      ],
      "text/plain": [
       "  label                                            message\n",
       "0   ham  Go until jurong point, crazy.. Available only ...\n",
       "1   ham                      Ok lar... Joking wif u oni..."
      ]
     },
     "execution_count": 8,
     "metadata": {},
     "output_type": "execute_result"
    }
   ],
   "source": [
    "df.head(2)"
   ]
  },
  {
   "cell_type": "code",
   "execution_count": 50,
   "id": "a8ebd456",
   "metadata": {},
   "outputs": [],
   "source": [
    "df_spam=df[df['label']=='spam']\n",
    "df_ham=df[df['label']=='ham']\n"
   ]
  },
  {
   "cell_type": "code",
   "execution_count": 51,
   "id": "bae2036f",
   "metadata": {},
   "outputs": [
    {
     "data": {
      "text/plain": [
       "(747, 3)"
      ]
     },
     "execution_count": 51,
     "metadata": {},
     "output_type": "execute_result"
    }
   ],
   "source": [
    "df_ham_downsampled=df_ham.sample(df_spam.shape[0])\n",
    "df_ham_downsampled.shape"
   ]
  },
  {
   "cell_type": "code",
   "execution_count": 52,
   "id": "c6a652cf",
   "metadata": {},
   "outputs": [],
   "source": [
    "df=pd.concat([df_spam,df_ham_downsampled])"
   ]
  },
  {
   "cell_type": "code",
   "execution_count": 53,
   "id": "d3c4b0e4",
   "metadata": {},
   "outputs": [
    {
     "data": {
      "text/html": [
       "<div>\n",
       "<style scoped>\n",
       "    .dataframe tbody tr th:only-of-type {\n",
       "        vertical-align: middle;\n",
       "    }\n",
       "\n",
       "    .dataframe tbody tr th {\n",
       "        vertical-align: top;\n",
       "    }\n",
       "\n",
       "    .dataframe thead th {\n",
       "        text-align: right;\n",
       "    }\n",
       "</style>\n",
       "<table border=\"1\" class=\"dataframe\">\n",
       "  <thead>\n",
       "    <tr style=\"text-align: right;\">\n",
       "      <th></th>\n",
       "      <th>label</th>\n",
       "      <th>message</th>\n",
       "      <th>spam</th>\n",
       "    </tr>\n",
       "  </thead>\n",
       "  <tbody>\n",
       "    <tr>\n",
       "      <th>2</th>\n",
       "      <td>spam</td>\n",
       "      <td>Free entry in 2 a wkly comp to win FA Cup fina...</td>\n",
       "      <td>1</td>\n",
       "    </tr>\n",
       "    <tr>\n",
       "      <th>5</th>\n",
       "      <td>spam</td>\n",
       "      <td>FreeMsg Hey there darling it's been 3 week's n...</td>\n",
       "      <td>1</td>\n",
       "    </tr>\n",
       "  </tbody>\n",
       "</table>\n",
       "</div>"
      ],
      "text/plain": [
       "  label                                            message  spam\n",
       "2  spam  Free entry in 2 a wkly comp to win FA Cup fina...     1\n",
       "5  spam  FreeMsg Hey there darling it's been 3 week's n...     1"
      ]
     },
     "execution_count": 53,
     "metadata": {},
     "output_type": "execute_result"
    }
   ],
   "source": [
    "df.head(2)"
   ]
  },
  {
   "cell_type": "code",
   "execution_count": 9,
   "id": "71dbec9d",
   "metadata": {},
   "outputs": [],
   "source": [
    "df['spam']=df['label'].apply(lambda x: 1 if x=='spam' else 0)"
   ]
  },
  {
   "cell_type": "code",
   "execution_count": 10,
   "id": "38717b08",
   "metadata": {},
   "outputs": [
    {
     "data": {
      "text/html": [
       "<div>\n",
       "<style scoped>\n",
       "    .dataframe tbody tr th:only-of-type {\n",
       "        vertical-align: middle;\n",
       "    }\n",
       "\n",
       "    .dataframe tbody tr th {\n",
       "        vertical-align: top;\n",
       "    }\n",
       "\n",
       "    .dataframe thead th {\n",
       "        text-align: right;\n",
       "    }\n",
       "</style>\n",
       "<table border=\"1\" class=\"dataframe\">\n",
       "  <thead>\n",
       "    <tr style=\"text-align: right;\">\n",
       "      <th></th>\n",
       "      <th>label</th>\n",
       "      <th>message</th>\n",
       "      <th>spam</th>\n",
       "    </tr>\n",
       "  </thead>\n",
       "  <tbody>\n",
       "    <tr>\n",
       "      <th>0</th>\n",
       "      <td>ham</td>\n",
       "      <td>Go until jurong point, crazy.. Available only ...</td>\n",
       "      <td>0</td>\n",
       "    </tr>\n",
       "    <tr>\n",
       "      <th>1</th>\n",
       "      <td>ham</td>\n",
       "      <td>Ok lar... Joking wif u oni...</td>\n",
       "      <td>0</td>\n",
       "    </tr>\n",
       "  </tbody>\n",
       "</table>\n",
       "</div>"
      ],
      "text/plain": [
       "  label                                            message  spam\n",
       "0   ham  Go until jurong point, crazy.. Available only ...     0\n",
       "1   ham                      Ok lar... Joking wif u oni...     0"
      ]
     },
     "execution_count": 10,
     "metadata": {},
     "output_type": "execute_result"
    }
   ],
   "source": [
    "df.head(2)"
   ]
  },
  {
   "cell_type": "code",
   "execution_count": 54,
   "id": "0f676440",
   "metadata": {},
   "outputs": [],
   "source": [
    "from sklearn.model_selection import train_test_split"
   ]
  },
  {
   "cell_type": "code",
   "execution_count": 55,
   "id": "7430358f",
   "metadata": {},
   "outputs": [],
   "source": [
    "x_train,x_test,y_train,y_test=train_test_split(df['message'],df['spam'],test_size=0.4)"
   ]
  },
  {
   "cell_type": "code",
   "execution_count": 56,
   "id": "6a68c07b",
   "metadata": {},
   "outputs": [
    {
     "data": {
      "text/plain": [
       "385    Double mins and txts 4 6months FREE Bluetooth ...\n",
       "Name: message, dtype: object"
      ]
     },
     "execution_count": 56,
     "metadata": {},
     "output_type": "execute_result"
    }
   ],
   "source": [
    "x_train.head(1)"
   ]
  },
  {
   "cell_type": "code",
   "execution_count": 57,
   "id": "243c04ed",
   "metadata": {},
   "outputs": [],
   "source": [
    "preprocess_url='https://tfhub.dev/tensorflow/bert_en_uncased_preprocess/3'\n",
    "encoder_url='https://tfhub.dev/tensorflow/bert_en_uncased_L-12_H-768_A-12/4'\n",
    "bert_preprocess_model=hub.KerasLayer(preprocess_url)\n",
    "bert_encoder=hub.KerasLayer(encoder_url)"
   ]
  },
  {
   "cell_type": "code",
   "execution_count": 58,
   "id": "5a352123",
   "metadata": {},
   "outputs": [],
   "source": [
    "def get_sentence_embedding(sentences):\n",
    "    preprocess_text=bert_preprocess_model(sentences)\n",
    "    return bert_encoder(preprocess_text)['pooled_output']"
   ]
  },
  {
   "cell_type": "code",
   "execution_count": 59,
   "id": "fe1f2f1d",
   "metadata": {},
   "outputs": [],
   "source": [
    "e=get_sentence_embedding(['banana',\n",
    "                         'grapes',\n",
    "                         'mango',\n",
    "                          'elon-musk',\n",
    "                          'jeff'\n",
    "                         ])"
   ]
  },
  {
   "cell_type": "code",
   "execution_count": 60,
   "id": "67c9ba16",
   "metadata": {},
   "outputs": [],
   "source": [
    "#bert layers\n",
    "test_input=tf.keras.layers.Input(shape=(),dtype=tf.string)\n",
    "preprocessed_text=bert_preprocess_model(test_input)\n",
    "outputs=bert_encoder(preprocessed_text)\n",
    "#NN layers\n",
    "l=tf.keras.layers.Dropout(0.1)(outputs['pooled_output'])\n",
    "l=tf.keras.layers.Dense(1,activation='sigmoid')(l)\n",
    "\n",
    "#model final\n",
    "model=tf.keras.Model(inputs=[test_input],outputs=l)\n"
   ]
  },
  {
   "cell_type": "code",
   "execution_count": 61,
   "id": "22a97f3e",
   "metadata": {},
   "outputs": [
    {
     "name": "stdout",
     "output_type": "stream",
     "text": [
      "Model: \"model_1\"\n",
      "__________________________________________________________________________________________________\n",
      " Layer (type)                   Output Shape         Param #     Connected to                     \n",
      "==================================================================================================\n",
      " input_8 (InputLayer)           [(None,)]            0           []                               \n",
      "                                                                                                  \n",
      " keras_layer_2 (KerasLayer)     {'input_mask': (Non  0           ['input_8[0][0]']                \n",
      "                                e, 128),                                                          \n",
      "                                 'input_type_ids':                                                \n",
      "                                (None, 128),                                                      \n",
      "                                 'input_word_ids':                                                \n",
      "                                (None, 128)}                                                      \n",
      "                                                                                                  \n",
      " keras_layer_3 (KerasLayer)     {'default': (None,   109482241   ['keras_layer_2[0][0]',          \n",
      "                                768),                             'keras_layer_2[0][1]',          \n",
      "                                 'encoder_outputs':               'keras_layer_2[0][2]']          \n",
      "                                 [(None, 128, 768),                                               \n",
      "                                 (None, 128, 768),                                                \n",
      "                                 (None, 128, 768),                                                \n",
      "                                 (None, 128, 768),                                                \n",
      "                                 (None, 128, 768),                                                \n",
      "                                 (None, 128, 768),                                                \n",
      "                                 (None, 128, 768),                                                \n",
      "                                 (None, 128, 768),                                                \n",
      "                                 (None, 128, 768),                                                \n",
      "                                 (None, 128, 768),                                                \n",
      "                                 (None, 128, 768),                                                \n",
      "                                 (None, 128, 768)],                                               \n",
      "                                 'pooled_output': (                                               \n",
      "                                None, 768),                                                       \n",
      "                                 'sequence_output':                                               \n",
      "                                 (None, 128, 768)}                                                \n",
      "                                                                                                  \n",
      " dropout_1 (Dropout)            (None, 768)          0           ['keras_layer_3[0][13]']         \n",
      "                                                                                                  \n",
      " dense_1 (Dense)                (None, 1)            769         ['dropout_1[0][0]']              \n",
      "                                                                                                  \n",
      "==================================================================================================\n",
      "Total params: 109,483,010\n",
      "Trainable params: 769\n",
      "Non-trainable params: 109,482,241\n",
      "__________________________________________________________________________________________________\n"
     ]
    }
   ],
   "source": [
    "model.summary()"
   ]
  },
  {
   "cell_type": "code",
   "execution_count": 62,
   "id": "b2044e08",
   "metadata": {},
   "outputs": [],
   "source": [
    "metrics=[tf.keras.metrics.BinaryAccuracy(name='accuracy'),\n",
    "        tf.keras.metrics.Precision(name='precision'),\n",
    "        tf.keras.metrics.Recall(name='recall')]"
   ]
  },
  {
   "cell_type": "markdown",
   "id": "1194ba9f",
   "metadata": {},
   "source": []
  },
  {
   "cell_type": "code",
   "execution_count": 63,
   "id": "64716b39",
   "metadata": {},
   "outputs": [
    {
     "name": "stdout",
     "output_type": "stream",
     "text": [
      "Epoch 1/10\n",
      "21/21 [==============================] - 86s 4s/step - loss: 0.7319 - accuracy: 0.4821 - precision: 0.4790 - recall: 0.4418 - val_loss: 0.6516 - val_accuracy: 0.5312 - val_precision: 1.0000 - val_recall: 0.0367\n",
      "Epoch 2/10\n",
      "21/21 [==============================] - 73s 4s/step - loss: 0.6247 - accuracy: 0.6771 - precision: 0.6867 - recall: 0.6478 - val_loss: 0.5615 - val_accuracy: 0.8304 - val_precision: 0.8318 - val_recall: 0.8165\n",
      "Epoch 3/10\n",
      "21/21 [==============================] - 75s 4s/step - loss: 0.5570 - accuracy: 0.7753 - precision: 0.7447 - recall: 0.8358 - val_loss: 0.5122 - val_accuracy: 0.8348 - val_precision: 0.9615 - val_recall: 0.6881\n",
      "Epoch 4/10\n",
      "21/21 [==============================] - 74s 4s/step - loss: 0.4992 - accuracy: 0.8333 - precision: 0.8348 - recall: 0.8299 - val_loss: 0.4576 - val_accuracy: 0.8795 - val_precision: 0.9100 - val_recall: 0.8349\n",
      "Epoch 5/10\n",
      "21/21 [==============================] - 79s 4s/step - loss: 0.4617 - accuracy: 0.8423 - precision: 0.8502 - recall: 0.8299 - val_loss: 0.4223 - val_accuracy: 0.8705 - val_precision: 0.8390 - val_recall: 0.9083\n",
      "Epoch 6/10\n",
      "21/21 [==============================] - 77s 4s/step - loss: 0.4343 - accuracy: 0.8616 - precision: 0.8517 - recall: 0.8746 - val_loss: 0.3950 - val_accuracy: 0.8839 - val_precision: 0.8739 - val_recall: 0.8899\n",
      "Epoch 7/10\n",
      "21/21 [==============================] - 76s 4s/step - loss: 0.3911 - accuracy: 0.8929 - precision: 0.8725 - recall: 0.9194 - val_loss: 0.3736 - val_accuracy: 0.8839 - val_precision: 0.8739 - val_recall: 0.8899\n",
      "Epoch 8/10\n",
      "21/21 [==============================] - 75s 4s/step - loss: 0.3795 - accuracy: 0.8899 - precision: 0.8805 - recall: 0.9015 - val_loss: 0.3577 - val_accuracy: 0.8795 - val_precision: 0.8475 - val_recall: 0.9174\n",
      "Epoch 9/10\n",
      "21/21 [==============================] - 75s 4s/step - loss: 0.3639 - accuracy: 0.8869 - precision: 0.8711 - recall: 0.9075 - val_loss: 0.3448 - val_accuracy: 0.8929 - val_precision: 0.8972 - val_recall: 0.8807\n",
      "Epoch 10/10\n",
      "21/21 [==============================] - 75s 4s/step - loss: 0.3433 - accuracy: 0.9048 - precision: 0.8883 - recall: 0.9254 - val_loss: 0.3325 - val_accuracy: 0.8839 - val_precision: 0.8547 - val_recall: 0.9174\n"
     ]
    },
    {
     "data": {
      "text/plain": [
       "<keras.callbacks.History at 0x1b13ea20d30>"
      ]
     },
     "execution_count": 63,
     "metadata": {},
     "output_type": "execute_result"
    }
   ],
   "source": [
    "model.compile(optimizer='adam',loss='binary_crossentropy',metrics=metrics)\n",
    "model.fit(x_train,y_train, validation_split=0.25, epochs=10)"
   ]
  },
  {
   "cell_type": "code",
   "execution_count": 67,
   "id": "df03564a",
   "metadata": {},
   "outputs": [
    {
     "name": "stdout",
     "output_type": "stream",
     "text": [
      "19/19 [==============================] - 49s 3s/step\n"
     ]
    }
   ],
   "source": [
    "y_pred=model.predict(x_test)\n"
   ]
  },
  {
   "cell_type": "code",
   "execution_count": 68,
   "id": "b45fc132",
   "metadata": {},
   "outputs": [],
   "source": [
    "import numpy as np \n",
    "y_pred=np.argmax(y_pred,axis=1)"
   ]
  },
  {
   "cell_type": "code",
   "execution_count": 69,
   "id": "747cf696",
   "metadata": {},
   "outputs": [
    {
     "data": {
      "text/plain": [
       "array([[295, 303],\n",
       "       [  0,   0]], dtype=int64)"
      ]
     },
     "execution_count": 69,
     "metadata": {},
     "output_type": "execute_result"
    }
   ],
   "source": [
    "from sklearn.metrics import confusion_matrix\n",
    "confusion_matrix(y_pred,y_test)"
   ]
  },
  {
   "cell_type": "code",
   "execution_count": null,
   "id": "3d317c17",
   "metadata": {},
   "outputs": [],
   "source": []
  }
 ],
 "metadata": {
  "kernelspec": {
   "display_name": "Python 3",
   "language": "python",
   "name": "python3"
  },
  "language_info": {
   "codemirror_mode": {
    "name": "ipython",
    "version": 3
   },
   "file_extension": ".py",
   "mimetype": "text/x-python",
   "name": "python",
   "nbconvert_exporter": "python",
   "pygments_lexer": "ipython3",
   "version": "3.7.0"
  }
 },
 "nbformat": 4,
 "nbformat_minor": 5
}
